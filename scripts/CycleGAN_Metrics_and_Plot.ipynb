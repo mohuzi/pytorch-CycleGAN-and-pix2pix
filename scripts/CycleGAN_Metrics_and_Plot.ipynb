{
  "nbformat": 4,
  "nbformat_minor": 0,
  "metadata": {
    "colab": {
      "name": "CycleGAN_Metrics_and_Plot.ipynb",
      "provenance": [],
      "collapsed_sections": [],
      "toc_visible": true
    },
    "kernelspec": {
      "name": "python3",
      "display_name": "Python 3"
    },
    "language_info": {
      "name": "python"
    }
  },
  "cells": [
    {
      "cell_type": "markdown",
      "metadata": {
        "id": "RLN9851qY13t"
      },
      "source": [
        "## Plotting Loss"
      ]
    },
    {
      "cell_type": "code",
      "metadata": {
        "id": "6mN4KGbltRQ8"
      },
      "source": [
        "import sys\n",
        "import os\n",
        "import pandas as pd\n",
        "import seaborn as sns\n",
        "from tqdm import tqdm \n",
        "import matplotlib.pyplot as plt\n",
        "\n",
        "def plot_loss(filepath): \n",
        "    loss_map = {\"epoch\": [],\n",
        "                \"iters\": [],\n",
        "                \"time\": [],\n",
        "                \"data\": [],\n",
        "                \"D_A\": [],\n",
        "                \"G_A\": [],\n",
        "                \"cycle_A\": [],\n",
        "                \"idt_A\": [],\n",
        "                \"D_B\": [],\n",
        "                \"G_B\": [],\n",
        "                \"cycle_B\": [],\n",
        "                \"idt_B\": []}\n",
        "\n",
        "    losses = [\"D_A\", \"G_A\", \"cycle_A\", \"idt_A\", \"D_B\", \"G_B\", \"cycle_B\", \"idt_B\"]\n",
        "    losses_df = pd.DataFrame(columns=[\"iteration\", \"loss\", \"model\"])\n",
        "\n",
        "\n",
        "    with open(filepath) as fp:\n",
        "        line = fp.readline()\n",
        "        cnt = 0\n",
        "        while line:\n",
        "            line = fp.readline()\n",
        "            line = line.replace(\":\", '').replace(\n",
        "                \"(\", '').replace(\")\", '').replace(\",\", '')\n",
        "            tokens = line.split(' ') \n",
        "            \n",
        "            for i in range(len(tokens)):\n",
        "                if tokens[i] in losses:\n",
        "                    row_map = {}\n",
        "                    row_map['model'] = tokens[i]\n",
        "                    row_map['loss'] = float(tokens[i+1])\n",
        "                    row_map['iteration'] = cnt\n",
        "                    losses_df = losses_df.append(row_map,ignore_index=True)\n",
        "            if tokens[0] == \"epoch\":\n",
        "                cnt += 1  \n",
        "\n",
        "    sns.set_style(\"darkgrid\")\n",
        "\n",
        "    plt.figure(figsize=(15,8))\n",
        "    sns.lineplot(\n",
        "        data=losses_df[losses_df['iteration'] < 400], x=\"iteration\", y=\"loss\",  hue=\"model\" ,\n",
        "        legend=\"full\"\n",
        "    )"
      ],
      "execution_count": null,
      "outputs": []
    },
    {
      "cell_type": "code",
      "metadata": {
        "id": "90O4Xn6sX6J0"
      },
      "source": [
        "from google.colab import drive\n",
        "drive.mount('/content/gdrive')"
      ],
      "execution_count": null,
      "outputs": []
    },
    {
      "cell_type": "code",
      "metadata": {
        "id": "-n-BFrOXZaaM"
      },
      "source": [
        "car_aug_cyc_loss =  '/content/gdrive/MyDrive/Projects/syn_real_gan/checkpoint/car/aug_cyclegan/car_augcycgan/loss_log.txt'\n",
        "car_cyc_for_loss = '/content/gdrive/MyDrive/Projects/syn_real_gan/checkpoint/car/cycgan_forward/car_cycgan_forward/loss_log.txt'\n",
        "car_cyc_loss= '/content/gdrive/MyDrive/Projects/syn_real_gan/checkpoint/car/cyclegan/car_cycGAN /loss_log.txt'\n",
        "\n",
        "full_aug_cyc_loss = '/content/gdrive/MyDrive/Projects/syn_real_gan/checkpoint/full_data/aug_cyclegan/full_augcycgan/loss_log.txt'\n",
        "full_cyc_for_loss =  '/content/gdrive/MyDrive/Projects/syn_real_gan/checkpoint/full_data/cycgan_forward/full_cycgan_forward_5classes/loss_log.txt'\n",
        "full_cyc_loss = '/content/gdrive/MyDrive/Projects/syn_real_gan/checkpoint/full_data/cyclegan/full_cycGAN_5classes/loss_log.txt'"
      ],
      "execution_count": null,
      "outputs": []
    },
    {
      "cell_type": "code",
      "metadata": {
        "id": "8U0ol-Khabf_"
      },
      "source": [
        "loss_list = []\n",
        "loss_list.append(plot_loss(car_aug_cyc_loss))\n",
        "loss_list.append(plot_loss(car_cyc_for_loss))\n",
        "loss_list.append(plot_loss(car_cyc_loss))\n",
        "loss_list.append(plot_loss(full_aug_cyc_loss))\n",
        "loss_list.append(plot_loss(full_cyc_for_loss))\n",
        "loss_list.append(plot_loss(full_cyc_loss))"
      ],
      "execution_count": null,
      "outputs": []
    },
    {
      "cell_type": "code",
      "metadata": {
        "id": "yYHj60F6dXSK"
      },
      "source": [
        "import pickle\n",
        "with open( '/content/gdrive/MyDrive/Projects/syn_real_gan/checkpoint/loss_lst.pkl', 'wb') as f:\n",
        "    pickle.dump(loss_list, f)"
      ],
      "execution_count": null,
      "outputs": []
    },
    {
      "cell_type": "code",
      "metadata": {
        "id": "0LFZsNqhdqc-"
      },
      "source": [
        "def plt_loss_dataframe(losses_df,iter,size,title):\n",
        "    plt.figure(figsize=size)\n",
        "    plate = {\n",
        "        \"D_A\": \"C0\",\n",
        "        \"G_A\": \"C1\",\n",
        "        \"cycle_A\": \"C2\",\n",
        "        \"idt_A\": \"C3\",\n",
        "        \"D_B\": \"C4\",\n",
        "        \"G_B\": \"C5\",\n",
        "        \"cycle_B\": \"C6\",\n",
        "        \"idt_B\": \"C7\"\n",
        "    }\n",
        "    plt.ylim(0, 5)\n",
        "    sns.lineplot(\n",
        "        data=losses_df[losses_df[\"iteration\"] <= iter] , x=\"iteration\", y=\"loss\",  hue=\"model\" ,palette = plate,\n",
        "        legend=\"full\"\n",
        "    ).set_title(title)"
      ],
      "execution_count": null,
      "outputs": []
    },
    {
      "cell_type": "code",
      "metadata": {
        "id": "awvokjd_eBzI"
      },
      "source": [
        "'''\n",
        "new_loss_lst = []\n",
        "for loss_df in loss_list:\n",
        "    for l in [\"D_A\", \"G_A\", \"cycle_A\", \"idt_A\", \"D_B\", \"G_B\", \"cycle_B\", \"idt_B\"]:\n",
        "        loss_df = loss_df.append({'iteration':-1,'loss':0,'model':l},ignore_index=True)\n",
        "        new_loss_lst.append(loss_df)\n",
        "        \n",
        "plt_loss_dataframe(new_loss_lst[0],400,(15,7),'Aug CycleGAN Loss - Car Dataset')\n",
        "'''\n",
        "\n",
        "plt_loss_dataframe(loss_list[0],400,(15,7),'Aug CycleGAN Loss - Car Dataset')\n",
        "plt_loss_dataframe(loss_list[1],400,(15,7),'CycleGAN Loss - Car Dataset')\n",
        "plt_loss_dataframe(loss_list[2],400,(15,7),'CycleGAN Forward Only Loss - Car Dataset')\n",
        "plt_loss_dataframe(loss_list[3],400,(15,7),'Aug CycleGAN Loss - 5 Classes Dataset')\n",
        "plt_loss_dataframe(loss_list[4],400,(15,7),'CycleGAN Loss - 5 Classes Dataset')\n",
        "plt_loss_dataframe(loss_list[5],400,(15,7),'CycleGAN  Forward Only Loss - 5 Classes Dataset') \n"
      ],
      "execution_count": null,
      "outputs": []
    },
    {
      "cell_type": "markdown",
      "metadata": {
        "id": "akaCQri7oKa0"
      },
      "source": [
        "## Display Testing Images"
      ]
    },
    {
      "cell_type": "code",
      "metadata": {
        "id": "yZLYVgTtoJc6"
      },
      "source": [
        "from google.colab import drive\n",
        "drive.mount('/content/gdrive')"
      ],
      "execution_count": null,
      "outputs": []
    },
    {
      "cell_type": "code",
      "metadata": {
        "id": "EYsoyBbsS3DS"
      },
      "source": [
        " \n",
        "car_aug =  '/content/gdrive/MyDrive/Projects/syn_real_gan/result/car/augcycgan/car_augcycgan/test_latest/images/' \n",
        "car_o =  '/content/gdrive/MyDrive/Projects/syn_real_gan/result/car/cycgan/car_cycGAN/test_latest/images/'\n",
        "car_f =  '/content/gdrive/MyDrive/Projects/syn_real_gan/result/car/fcycgan/car_cycgan_forward/test_latest/images/'\n",
        "full_aug= '/content/gdrive/MyDrive/Projects/syn_real_gan/result/full_data/augcycgan/full_augcycgan/test_latest/images/'\n",
        "full_o = '/content/gdrive/MyDrive/Projects/syn_real_gan/result/full_data/cycgan/full_cycGAN_5classes/test_latest/images/'\n",
        "full_f = '/content/gdrive/MyDrive/Projects/syn_real_gan/result/full_data/fcycgan/full_cycgan_forward_5classes/test_latest/images/'\n",
        "full_testa = '/content/gdrive/MyDrive/Projects/syn_real_gan/data/02_intermediate/5_classes/testA/'\n",
        "full_testb = '/content/gdrive/MyDrive/Projects/syn_real_gan/data/02_intermediate/5_classes/testB/'\n",
        "\n",
        "car_testa = '/content/gdrive/MyDrive/Projects/syn_real_gan/data/02_intermediate/car/testA/'\n",
        "all_img_lst = [car_aug,car_o,car_f,full_aug,full_o,full_f]\n",
        "\n",
        "def get_image_row( img_name,full ):\n",
        "    if full:\n",
        "        return [\n",
        "            full_testa +img_name +'.png',\n",
        "            full_o+img_name+'_fake_B.png',\n",
        "            full_f+img_name+'_fake_B.png',\n",
        "            full_aug+img_name+'_fake_B.png',\n",
        "            full_aug+img_name+'_fake_B_e1.png',\n",
        "            full_aug+img_name+'_fake_B_e2.png',\n",
        "        ]\n",
        "      \n",
        "    return [\n",
        "        car_testa +img_name +'.png',\n",
        "        car_o+img_name+'_fake_B.png',\n",
        "        car_f+img_name+'_fake_B.png',\n",
        "        car_aug+img_name+'_fake_B.png',\n",
        "        car_aug+img_name+'_fake_B_e1.png',\n",
        "        car_aug+img_name+'_fake_B_e2.png',\n",
        "    ]\n",
        "\n",
        "def get_b_image_row( img_name,full ):\n",
        "    if full:\n",
        "        return [\n",
        "            full_o +img_name +'_real_B.png',\n",
        "            full_o+img_name+'_fake_A.png',\n",
        "            full_f+img_name+'_fake_A.png',\n",
        "            full_aug+img_name+'_fake_A.png', \n",
        "        ]\n",
        "      \n",
        "    return [\n",
        "        full_testb +img_name +'.png',\n",
        "        full_o+img_name+'_fake_A.png',\n",
        "        full_f+img_name+'_fake_A.png',\n",
        "        full_aug+img_name+'_fake_A.png', \n",
        "    ]"
      ],
      "execution_count": null,
      "outputs": []
    },
    {
      "cell_type": "code",
      "metadata": {
        "id": "YM7dxsAtYfqx"
      },
      "source": [
        "import matplotlib.pyplot as plt\n",
        "\n",
        "def grid_display(list_of_images, list_of_titles=[], no_of_columns=2, figsize=(10,10),compare=False):\n",
        "\n",
        "    fig = plt.figure(figsize=figsize)\n",
        "    plt.subplots_adjust(wspace=0,hspace=0.01)\n",
        "    column = 0\n",
        "    row = int(len(list_of_images) / no_of_columns ) \n",
        "    switch = True\n",
        "    for i in range(len(list_of_images)):\n",
        "        column += 1\n",
        "        #  check for end of column and create a new figure\n",
        "        if column == no_of_columns+1:\n",
        "            column = 1 \n",
        "        fig.add_subplot(row, no_of_columns, i+1)\n",
        "        plt.imshow(list_of_images[i])\n",
        "        plt.axis('off')\n",
        "        if len(list_of_titles) > i:\n",
        "            plt.title(list_of_titles[i])\n",
        "        if column == 1:\n",
        "            if compare and switch:\n",
        "                plt.title('5 Classes Training')\n",
        "                switch = False\n",
        "            elif compare:\n",
        "                plt.title('Car only training')\n",
        "                switch = True\n",
        "    plt.show()\n",
        "\n",
        "\n",
        "def get_listB_img(lst):\n",
        "    ret_lst = []\n",
        "    for img in lst:\n",
        "        ret_lst += get_b_image_row(img,True)\n",
        "    return [cv2.cvtColor(cv2.imread(mm), cv2.COLOR_BGR2RGB) for mm in  ret_lst ]\n",
        "\n",
        "def get_list_img(lst,full):\n",
        "    ret_lst = []\n",
        "    for img in lst:\n",
        "        ret_lst += get_image_row(img,full)\n",
        "    return [cv2.cvtColor(cv2.imread(mm), cv2.COLOR_BGR2RGB) for mm in  ret_lst ]\n",
        "\n",
        "def get_alter_img(lst):\n",
        "    ret_lst = []\n",
        "    for img in lst:\n",
        "        ret_lst += get_image_row(img,True)\n",
        "        ret_lst += get_image_row(img,False)\n",
        "    return [ cv2.cvtColor(cv2.imread(mm), cv2.COLOR_BGR2RGB) for mm in  ret_lst ]\n"
      ],
      "execution_count": null,
      "outputs": []
    },
    {
      "cell_type": "code",
      "metadata": {
        "id": "sDOahOu0Z1u9"
      },
      "source": [
        "import cv2\n",
        "import matplotlib.pyplot as plt\n",
        "header = ['Domain A', 'CycleGAN','CycleGAN Forward','Augmented CycleGAN 1','Augmented CycleGAN 2','Augmented CycleGAN 3'] \n",
        "img_lst = [ 'src_1_02958343_7bf415dbff028a3d4470fce578e2b84c__61_236_165',\n",
        "   'src_1_02958343_d9ee9de8527d309cc0c0cae12126488__95_123_165',\n",
        "   'src_1_02958343_eadebe4328e2c7d7c10520be41d00de2__146_123_150',\n",
        "]\n",
        "grid_display(get_alter_img(img_lst), header, 6, (30,30),True)\n",
        "#grid_display(get_list_img(img_lst,False), header, 6, (20,30))\n",
        " "
      ],
      "execution_count": null,
      "outputs": []
    },
    {
      "cell_type": "code",
      "metadata": {
        "id": "SU2v0SDN4WVg"
      },
      "source": [
        "get_image_row('src_1_02958343_7bf415dbff028a3d4470fce578e2b84c__61_236_165',True)\n",
        "'/content/gdrive/MyDrive/Projects/syn_real_gan/result/full_data/cycgan/full_cycGAN_5classes/test_latest/images/src_1_02958343_7bf415dbff028a3d4470fce578e2b84c__61_236_165_fake_B.png'"
      ],
      "execution_count": null,
      "outputs": []
    },
    {
      "cell_type": "code",
      "metadata": {
        "id": "_MJ3HNF1rUee"
      },
      "source": [
        "import cv2\n",
        "import matplotlib.pyplot as plt\n",
        "header = ['Domain A', 'CycleGAN','CycleGAN Forward','Augmented CycleGAN 1','Augmented CycleGAN 2','Augmented CycleGAN 3'] \n",
        "img_lst = ['src_1_02691156_1cfada8b8ad2428fcabcecce1c335df1__61_123_165',\n",
        "'src_1_02691156_1db7bca33ba446aba5cac89017eae8d1__61_236_165', \n",
        "'src_1_02958343_4fd5c18c1536d65be129fc90649e41d3__95_349_165', \n",
        "'src_1_03790512_f736168c42267866eba25bbcd3786140__44_349_150', \n",
        "'src_3_1562__214_10_150',\n",
        "'src_5_22-2-1__61_236_165', \n",
        "'src_4_4407__10_236_150',\n",
        "'src_4_5456__146_236_150',\n",
        "]\n",
        "grid_display(get_list_img(img_lst,True), header, 6, (30,42),False)\n",
        " "
      ],
      "execution_count": null,
      "outputs": []
    },
    {
      "cell_type": "code",
      "metadata": {
        "id": "JOb1nMuk_y8E"
      },
      "source": [
        "import cv2\n",
        "import matplotlib.pyplot as plt\n",
        "header = ['Domain A', 'CycleGAN','CycleGAN Forward','Augmented CycleGAN 1','Augmented CycleGAN 2','Augmented CycleGAN 3'] \n",
        "img_lst = ['src_1_02958343_e8a8d47957d15bbf8079d5a13e411210__78_236_150',\n",
        "'src_1_02958343_eadebe4328e2c7d7c10520be41d00de2__146_123_150',\n",
        "'src_2_02958343_2a887d0b865d8ab4dfb921b4cd0b4571__27_236_165',\n",
        "'src_2_02958343_ef3ed9f139571826ce27281f3b76d1f5__61_10_165',\n",
        "'src_2_02958343_3e37a76f38d057cd3f823401cb5b3c88__146_349_150'\n",
        "]\n",
        "grid_display(get_list_img(img_lst,False), header, 6, (30,26),False)\n",
        " "
      ],
      "execution_count": null,
      "outputs": []
    },
    {
      "cell_type": "code",
      "metadata": {
        "id": "3lFMNHig_3Ok"
      },
      "source": [
        "import cv2\n",
        "import matplotlib.pyplot as plt\n",
        "header = ['Domain B', 'CycleGAN','CycleGAN Forward','Augmented CycleGAN' ] \n",
        "img_lst = [\n",
        "           'src_1_02958343_18da5e80080352be294d52e32dbd135b__248_123_150',\n",
        "'src_1_02958343_1cf08633fc7e8d193d21cf61f69e40a4__316_349_150',\n",
        "'src_1_02958343_2a887d0b865d8ab4dfb921b4cd0b4571__112_123_150',\n",
        "'src_1_02958343_4e6131bad4ae8b6c91af0bf49336b8c6__248_349_150',\n",
        "'src_1_02958343_4fd5c18c1536d65be129fc90649e41d3__95_349_165',\n",
        "'src_1_02958343_9702eb7f07f013532764cfba57a5de73__78_236_150',\n",
        "'src_1_02958343_b812523dddd4a34a473f10e6caaeca56__316_349_150',\n",
        "'src_1_02958343_eadebe4328e2c7d7c10520be41d00de2__146_123_150',\n",
        "'src_2_02691156_4e67ea4fbcd0d9a4bfb056e4de687088__214_10_150',\n",
        "'src_2_02958343_180d1e3463c29355bda72093f9b5aa73__299_236_165',\n",
        "'src_2_02958343_4fd5c18c1536d65be129fc90649e41d3__197_349_165',\n",
        "'src_5_9-1-1__231_123_165'\n",
        "]\n",
        "grid_display(get_listB_img(img_lst), header, 4, (20,62),False)\n",
        " "
      ],
      "execution_count": null,
      "outputs": []
    },
    {
      "cell_type": "code",
      "metadata": {
        "id": "x1s7leyXTshm"
      },
      "source": [
        "import os\n",
        "os.listdir(full_testb)"
      ],
      "execution_count": null,
      "outputs": []
    },
    {
      "cell_type": "markdown",
      "metadata": {
        "id": "9p6pICsRivYv"
      },
      "source": [
        "## ALEXNET Result"
      ]
    },
    {
      "cell_type": "code",
      "metadata": {
        "id": "XFcsHi8Mi31V"
      },
      "source": [
        "from google.colab import drive\n",
        "drive.mount('/content/gdrive')"
      ],
      "execution_count": null,
      "outputs": []
    },
    {
      "cell_type": "code",
      "metadata": {
        "id": "Wfl3-wDwpOtv"
      },
      "source": [
        " \n",
        "car_aug =  '/content/gdrive/MyDrive/Projects/syn_real_gan/result/car/augcycgan/car_augcycgan/test_latest/images/' \n",
        "car_o =  '/content/gdrive/MyDrive/Projects/syn_real_gan/result/car/cycgan/car_cycGAN/test_latest/images/'\n",
        "car_f =  '/content/gdrive/MyDrive/Projects/syn_real_gan/result/car/fcycgan/car_cycgan_forward/test_latest/images/'\n",
        "full_aug= '/content/gdrive/MyDrive/Projects/syn_real_gan/result/full_data/augcycgan/full_augcycgan/test_latest/images/'\n",
        "full_o = '/content/gdrive/MyDrive/Projects/syn_real_gan/result/full_data/cycgan/full_cycGAN_5classes/test_latest/images/'\n",
        "full_f = '/content/gdrive/MyDrive/Projects/syn_real_gan/result/full_data/fcycgan/full_cycgan_forward_5classes/test_latest/images/'\n",
        "full_testa = '/content/gdrive/MyDrive/Projects/syn_real_gan/data/02_intermediate/5_classes/testA/'\n",
        "full_testb = '/content/gdrive/MyDrive/Projects/syn_real_gan/data/02_intermediate/5_classes/testB/'\n",
        "\n",
        "car_testa = '/content/gdrive/MyDrive/Projects/syn_real_gan/data/02_intermediate/car/testA/'\n",
        "all_img_lst = [car_aug,car_o,car_f,full_aug,full_o,full_f]"
      ],
      "execution_count": null,
      "outputs": []
    },
    {
      "cell_type": "code",
      "metadata": {
        "id": "a1iMQNtkUGEf"
      },
      "source": [
        "from torchvision import models\n",
        "import torch\n",
        "alexnet = models.alexnet(pretrained=True)\n",
        "\n",
        "from torchvision import transforms\n",
        "transform = transforms.Compose([            #[1]\n",
        " transforms.Resize(256),                    #[2]\n",
        " transforms.CenterCrop(224),                #[3]\n",
        " transforms.ToTensor(),                     #[4]\n",
        " transforms.Normalize(                      #[5]\n",
        " mean=[0.485, 0.456, 0.406],                #[6]\n",
        " std=[0.229, 0.224, 0.225]                  #[7]\n",
        " )])\n",
        "# Import Pillow\n",
        "!wget https://raw.githubusercontent.com/Lasagne/Recipes/master/examples/resnet50/imagenet_classes.txt ./\n",
        "from PIL import Image\n",
        "with open('imagenet_classes.txt') as f:\n",
        "    classes = [line.strip() for line in f.readlines()]\n",
        "labels = classes\n",
        "alexnet.eval()"
      ],
      "execution_count": null,
      "outputs": []
    },
    {
      "cell_type": "code",
      "metadata": {
        "id": "gb3UjUy6gS58"
      },
      "source": [
        "from tqdm import tqdm\n",
        "import os\n",
        "def get_fakeB_files(path):\n",
        "    files = os.listdir(path)\n",
        "    filtered_files =  [path+ p for p in files if 'fake_B' in p]\n",
        "    res = []\n",
        "    for f in tqdm(filtered_files):\n",
        "        res.append(torch.unsqueeze(transform(Image.open(f)), 0))\n",
        "    return res  \n",
        "\n",
        "def alex_out(img_batch):\n",
        "    out = alexnet(img_batch) \n",
        "    _, index = torch.max(out, 1)\n",
        "    percentage = torch.nn.functional.softmax(out, dim=1)[0] * 100\n",
        "    _, indices = torch.sort(out, descending=True)\n",
        "    return [(labels[idx], percentage[idx].item()) for idx in indices[0][:5]]\n",
        "\n",
        "def predict_out(path):\n",
        "    all_batches = get_fakeB_files(path)\n",
        "    res = []\n",
        "    for b in tqdm(all_batches):\n",
        "        res.append(alex_out(b))\n",
        "    return res \n",
        "\n",
        "result = []\n",
        "'''\n",
        "result.append(predict_out(car_aug))\n",
        "result.append(predict_out(car_o))\n",
        "result.append(predict_out(car_f))\n",
        "result.append(predict_out(full_aug))\n",
        "result.append(predict_out(full_o))\n",
        "result.append(predict_out(full_f))\n",
        "'''"
      ],
      "execution_count": null,
      "outputs": []
    },
    {
      "cell_type": "code",
      "metadata": {
        "id": "SF_lJy6Uo6BR"
      },
      "source": [
        "result"
      ],
      "execution_count": null,
      "outputs": []
    },
    {
      "cell_type": "code",
      "metadata": {
        "id": "vdMfcGM9y_S9"
      },
      "source": [
        " \n",
        "import pickle\n",
        "with open('/content/gdrive/MyDrive/Projects/syn_real_gan/alex_result.pkl','wb') as f:\n",
        "    pickle.dump(result,f)"
      ],
      "execution_count": null,
      "outputs": []
    },
    {
      "cell_type": "code",
      "metadata": {
        "id": "kT9fQr41zXQk"
      },
      "source": [
        "result = []\n",
        "import pickle\n",
        "with open('/content/gdrive/MyDrive/Projects/syn_real_gan/alex_result.pkl','rb') as f:\n",
        "    result = pickle.load(f)"
      ],
      "execution_count": null,
      "outputs": []
    },
    {
      "cell_type": "code",
      "metadata": {
        "id": "LJ0_XOUNzrNd"
      },
      "source": [
        "result"
      ],
      "execution_count": null,
      "outputs": []
    },
    {
      "cell_type": "code",
      "metadata": {
        "id": "dtW9RLsOzr41"
      },
      "source": [
        "import pandas as pd\n",
        "import seaborn as sns\n",
        "alex_df = pd.DataFrame(columns=['class','exp'])\n",
        "for res in result[0]:\n",
        "    alex_df = alex_df.append({'class':res[0][0],'exp':'car_aug'},ignore_index=True)\n",
        "sns.set(rc={'figure.figsize':(15,8)})\n",
        "sns.histplot(data=alex_df, x=\"class\")"
      ],
      "execution_count": null,
      "outputs": []
    },
    {
      "cell_type": "code",
      "metadata": {
        "id": "RwzEy4fm0d4m"
      },
      "source": [
        "alex_df['class'].unique()"
      ],
      "execution_count": null,
      "outputs": []
    },
    {
      "cell_type": "code",
      "metadata": {
        "id": "pl_SNkma01y1"
      },
      "source": [
        "iirc_classes.keys()"
      ],
      "execution_count": null,
      "outputs": []
    },
    {
      "cell_type": "code",
      "metadata": {
        "id": "tMzatDvc2fpq"
      },
      "source": [
        "car_labels =[\n",
        "      \"ambulance\",\n",
        "      \"beach wagon\",\n",
        "      \"cab\",\n",
        "      \"convertible\",\n",
        "      \"jeep\",\n",
        "      \"limousine\",\n",
        "      \"Model T\",\n",
        "      \"racer\",\n",
        "      \"sports car\",\n",
        "      \"minivan\",\n",
        "      \"grille\",\n",
        "      \"golfcart\",\n",
        "      \"fire engine\",\n",
        "      \"garbage truck\",\n",
        "      \"pickup\",\n",
        "      \"tow truck\",\n",
        "      \"trailer truck\",\n",
        "      \"moving van\",\n",
        "      \"police van\",\n",
        "      \"recreational vehicle\",\n",
        "      \"forklift\",\n",
        "      \"harvester\",\n",
        "      \"snowplow\",\n",
        "      \"tractor\",\n",
        "      \"minibus\",\n",
        "      \"school bus\",\n",
        "      \"trolleybus\",\n",
        "        \"snowmobile\",\n",
        "      \"half track\",\n",
        "      \"tank\",\n",
        "      \"passenger car\",\n",
        "      \"freight car\",\n",
        "      \"electric locomotive\",\n",
        "      \"bullet train\",\n",
        "      \"streetcar\",\n",
        "      \"steam locomotive\",\n",
        "      \"vehicle\",\n",
        "      \"car mirror\"\n",
        "]\n",
        "\n",
        "bike_lables = [      \n",
        "    \"moped\",\n",
        "      \"bicycle-built-for-two\",\n",
        "      \"tricycle\",\n",
        "      \"unicycle\",\n",
        "      \"mountain bike\",\n",
        "      \"motor scooter\",\n",
        "      \"motorcycle\"\n",
        "      ]\n",
        "\n",
        "horse_labels = [\"horse\",'zebra']\n",
        "plant_label = [\n",
        "                   \"acorn\",\n",
        "      \"hip\",\n",
        "      \"ear\",\n",
        "      \"fig\",\n",
        "      \"pineapple\",\n",
        "      \"banana\",\n",
        "      \"jackfruit\",\n",
        "      \"custard apple\",\n",
        "      \"pomegranate\",\n",
        "      \"strawberry\",\n",
        "      \"orange\",\n",
        "      \"lemon\",\n",
        "      \"Granny Smith\",\n",
        "      \"buckeye\",\n",
        "      \"rapeseed\",\n",
        "      \"corn\",\n",
        "      \"cucumber\",\n",
        "      \"artichoke\",\n",
        "      \"cardoon\",\n",
        "      \"mushroom\",\n",
        "      \"bell pepper\",\n",
        "      \"mashed potato\",\n",
        "      \"zucchini\",\n",
        "      \"spaghetti squash\",\n",
        "      \"acorn squash\",\n",
        "      \"butternut squash\",\n",
        "      \"broccoli\",\n",
        "      \"cauliflower\",\n",
        "      \"head cabbage\"  ,\n",
        "      \"flower\",\n",
        "      \"pot\",\n",
        "      \"vase\"\n",
        "]\n",
        "\n",
        "fly_labels = [\n",
        "        \"airship\",\n",
        "      \"balloon\",\n",
        "      \"airliner\",\n",
        "      \"warplane\",\n",
        "      \"wing\",\n",
        "      \"space shuttle\",\n",
        "      \"plane\"\n",
        "]\n",
        "lmap = {\n",
        "    'car': car_labels,\n",
        "    'airplane' :fly_labels,\n",
        "    'plant':plant_label,\n",
        "    'motorcycle': bike_lables,\n",
        "    'horse':horse_labels\n",
        "}\n",
        "\n",
        "def convert_label(raw_label): \n",
        "    for supper_label in lmap.keys():\n",
        "        for label in lmap[supper_label]:\n",
        "            if label in raw_label:\n",
        "                return supper_label \n",
        "    return 'other'\n"
      ],
      "execution_count": null,
      "outputs": []
    },
    {
      "cell_type": "code",
      "metadata": {
        "id": "wZlEq7ea2iiG"
      },
      "source": [
        "simp_res = []\n",
        "for one_res in result:\n",
        "    new_res = []\n",
        "    for labels in one_res:\n",
        "        new_res.append(convert_label(labels[0][0])) \n",
        "    simp_res.append(new_res)\n"
      ],
      "execution_count": null,
      "outputs": []
    },
    {
      "cell_type": "code",
      "metadata": {
        "id": "-xQlKaFgTrsC"
      },
      "source": [
        "simp_res"
      ],
      "execution_count": null,
      "outputs": []
    },
    {
      "cell_type": "code",
      "metadata": {
        "id": "-4Hi0x166s6m"
      },
      "source": [
        "import pandas as pd\n",
        "import seaborn as sns\n",
        "alex_df = pd.DataFrame(columns=['class','exp'])\n",
        "exp_name = ['Augmented CycleGAN - Car','CycleGAN - Car','CycleGAN Forward - Car','Augmented CycleGAN - 5 Classes','CycleGAN - 5 Classes','CycleGAN Forward - 5 Classes']\n",
        "for i in range(len(exp_name)):\n",
        "    looking = simp_res[i]\n",
        "    if i == 3:\n",
        "        looking = looking[:int(len(looking)/3)]\n",
        "    for res in looking:\n",
        " \n",
        "        alex_df = alex_df.append({'class':res,'exp':exp_name[i]},ignore_index=True)\n",
        "sns.set(rc={'figure.figsize':(15,8)})\n",
        "for i in range(len(exp_name)):\n",
        "    sns.histplot(data=alex_df[alex_df['exp'] == exp_name[i]], x=\"class\")\n",
        "    plt.show()"
      ],
      "execution_count": null,
      "outputs": []
    },
    {
      "cell_type": "code",
      "metadata": {
        "id": "xXCwwUL06uDF"
      },
      "source": [
        "sns.histplot(data=alex_df[alex_df['exp'].isin(['Augmented CycleGAN - 5 Classes','CycleGAN - 5 Classes','CycleGAN Forward - 5 Classes'])], x=\"class\", hue=\"exp\" )"
      ],
      "execution_count": null,
      "outputs": []
    },
    {
      "cell_type": "code",
      "metadata": {
        "id": "XxWszOAo68fG"
      },
      "source": [
        "alex_df['class'].value_counts()[:30]"
      ],
      "execution_count": null,
      "outputs": []
    },
    {
      "cell_type": "code",
      "metadata": {
        "id": "y65B7MSoYPWM"
      },
      "source": [
        "exp_name = ['Augmented CycleGAN - Car','CycleGAN - Car','CycleGAN Forward - Car','Augmented CycleGAN - 5 Classes','CycleGAN - 5 Classes','CycleGAN Forward - 5 Classes']\n",
        "for i in range(6):\n",
        "    print(exp_name[i])\n",
        "    working_df = alex_df[alex_df['exp']==exp_name[i]]\n",
        "    if i <= 2:\n",
        "        print(sum(working_df['class'] == 'car')/len(working_df))\n",
        "    else:\n",
        "        print(1- sum(working_df['class'] == 'other')/len(working_df))"
      ],
      "execution_count": null,
      "outputs": []
    },
    {
      "cell_type": "code",
      "metadata": {
        "id": "m1pHadYlgOX4"
      },
      "source": [
        "flen(alex_df)"
      ],
      "execution_count": null,
      "outputs": []
    },
    {
      "cell_type": "code",
      "metadata": {
        "id": "EVpAM09TgPvk"
      },
      "source": [
        ""
      ],
      "execution_count": null,
      "outputs": []
    }
  ]
}