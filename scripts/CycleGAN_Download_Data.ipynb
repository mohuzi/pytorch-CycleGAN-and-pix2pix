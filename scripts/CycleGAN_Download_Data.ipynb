{
  "nbformat": 4,
  "nbformat_minor": 0,
  "metadata": {
    "colab": {
      "name": "CycleGAN Download Data.ipynb",
      "provenance": [],
      "collapsed_sections": [],
      "toc_visible": true
    },
    "kernelspec": {
      "name": "python3",
      "display_name": "Python 3"
    },
    "language_info": {
      "name": "python"
    }
  },
  "cells": [
    {
      "cell_type": "markdown",
      "metadata": {
        "id": "tTfbwGrz2P3J"
      },
      "source": [
        "# Download Images and Preprocess"
      ]
    },
    {
      "cell_type": "code",
      "metadata": {
        "id": "11oYDl342Uxf"
      },
      "source": [
        "from google.colab import drive\n",
        "drive.mount('/content/gdrive')"
      ],
      "execution_count": null,
      "outputs": []
    },
    {
      "cell_type": "markdown",
      "metadata": {
        "id": "lYO-cVXjFbFW"
      },
      "source": [
        "Raw Image Data Download https://github.com/VisionLearningGroup/taskcv-2017-public/tree/master/classification"
      ]
    },
    {
      "cell_type": "code",
      "metadata": {
        "id": "Ja4-eUc324ZN"
      },
      "source": [
        "#!wget http://csr.bu.edu/ftp/visda17/clf/validation.tar\n",
        "!tar xvf /content/gdrive/MyDrive/Projects/syn_real_gan/data/01_raw/validation.tar  \n",
        " \n",
        "'''\n",
        "!wget http://csr.bu.edu/ftp/visda17/clf/train.tar\n",
        "!tar xvf train.tar\n",
        " \n",
        "!wget http://csr.bu.edu/ftp/visda17/clf/test.tar\n",
        "!tar xvf test.tar\n",
        "!wget https://raw.githubusercontent.com/VisionLearningGroup/taskcv-2017-public/master/classification/data/image_list.txt\n",
        "'''"
      ],
      "execution_count": null,
      "outputs": []
    },
    {
      "cell_type": "code",
      "metadata": {
        "id": "Phuw9g7IHEcA"
      },
      "source": [
        "drive.flush_and_unmount()"
      ],
      "execution_count": null,
      "outputs": []
    },
    {
      "cell_type": "markdown",
      "metadata": {
        "id": "SAOQIO98tIWu"
      },
      "source": [
        "## Data Stat"
      ]
    },
    {
      "cell_type": "code",
      "metadata": {
        "id": "3QI4mR--juoZ"
      },
      "source": [
        "pwd"
      ],
      "execution_count": null,
      "outputs": []
    },
    {
      "cell_type": "code",
      "metadata": {
        "id": "DfTbl2ZbtHt3"
      },
      "source": [
        "ls"
      ],
      "execution_count": null,
      "outputs": []
    },
    {
      "cell_type": "markdown",
      "metadata": {
        "id": "P5rUYWynwoCH"
      },
      "source": [
        "Show number of files in each class."
      ]
    },
    {
      "cell_type": "code",
      "metadata": {
        "id": "VhmpyMawtN4H"
      },
      "source": [
        "import os, os.path\n",
        "\n",
        "# simple version for working with CWD\n",
        "\n",
        "#dir = '/content/gdrive/MyDrive/Projects/syn_real_gan/data/01_raw'\n",
        "dir = '/content/gdrive/MyDrive/Projects/syn_real_gan/data/02_intermediate'\n",
        "\n",
        "def print_num_files(dir):\n",
        "    file_count = 0\n",
        "    for name in os.listdir(dir):\n",
        "        if  os.path.isfile(dir+'/'+name):\n",
        "            file_count += 1\n",
        "        elif os.path.isdir(dir+'/'+name):\n",
        "            print_num_files(dir+'/'+name)\n",
        "    print(f'{dir}:{file_count}')\n",
        "print_num_files(dir)"
      ],
      "execution_count": null,
      "outputs": []
    },
    {
      "cell_type": "code",
      "metadata": {
        "id": "-vD7XbaDWpqB"
      },
      "source": [
        "import os,shutil\n",
        "import random\n",
        "from tqdm import tqdm\n",
        "import cv2\n",
        " \n",
        "def build_cycle_gan_dir(cls_name,target_dir):\n",
        "    os.makedirs(target_dir,exist_ok=True)\n",
        "    os.makedirs(os.path.join(target_dir,'trainA' ) ,exist_ok=True) \n",
        "    os.makedirs(os.path.join(target_dir, 'trainB' ) ,exist_ok=True) \n",
        "    os.makedirs(os.path.join(target_dir,'testA' ) ,exist_ok=True) \n",
        "    os.makedirs(os.path.join(target_dir,'testB' )  ,exist_ok=True) \n",
        "    \n",
        "    raw_dir = '/content/gdrive/MyDrive/Projects/syn_real_gan/data/01_raw'\n",
        "    full_dir = '/content/gdrive/MyDrive/Projects/syn_real_gan/data/02_intermediate/5_classes'\n",
        "\n",
        "    B_dir = os.path.join(raw_dir,'validation',cls_name)\n",
        "    A_dir = os.path.join(raw_dir,'train',cls_name)  \n",
        "\n",
        "    print(f'{cls_name} list dir ...')\n",
        "    A_dir_files = os.listdir(A_dir)\n",
        "    B_dir_files = os.listdir(B_dir)\n",
        "\n",
        "    print(f'{cls_name} shuffling ...')\n",
        "    random.shuffle(A_dir_files) \n",
        "    random.shuffle(B_dir_files)\n",
        "\n",
        "    def process_file(file_path,target_path,full_path):\n",
        "        im = cv2.imread(file_path)\n",
        "        sp = im.shape\n",
        "        if not (sp[0]/sp[1] < 0.4 or sp[0]/sp[1] > 2.5):\n",
        "            if not (sp[0] < 200 or sp[1] < 200):\n",
        "                shutil.copy(file_path,target_path)\n",
        "                shutil.copy(file_path,full_path)\n",
        "                print(f'{file_path}:{sp} moved')\n",
        "                return True\n",
        "        return False\n",
        "\n",
        "    count_train = 0\n",
        "    for f in tqdm(B_dir_files):\n",
        "        if process_file(os.path.join(B_dir,f),os.path.join(target_dir,'trainB'),os.path.join(full_dir,'trainB')):\n",
        "            count_train += 1\n",
        "    for f in tqdm(A_dir_files[:count_train]):\n",
        "        shutil.copy(os.path.join(A_dir,f),os.path.join(target_dir,'trainA'))\n",
        "        shutil.copy(os.path.join(A_dir,f),os.path.join(full_dir,'trainA'))\n",
        "        \n",
        "    '''\n",
        "    for f in tqdm(A_dir_files[:200]):\n",
        "        shutil.copy(os.path.join(A_dir,f),os.path.join(target_dir,'trainA'))\n",
        "    for f in tqdm(B_dir_files[:200]):\n",
        "        shutil.copy(os.path.join(B_dir,f),os.path.join(target_dir,'trainB'))\n",
        "    for f in tqdm(A_dir_files[200:220]):\n",
        "        shutil.copy(os.path.join(A_dir,f),os.path.join(target_dir,'testA')) \n",
        "    for f in tqdm(B_dir_files[200:220]):\n",
        "        shutil.copy(os.path.join(B_dir,f),os.path.join(target_dir,'testB')) \n",
        "    '''\n",
        "    \n",
        "def move_train_to_test(cls_name,target_dir): \n",
        "     \n",
        "    full_dir = '/content/gdrive/MyDrive/Projects/syn_real_gan/data/02_intermediate/5_classes'\n",
        "\n",
        "    A_dir = os.path.join(target_dir,'trainA')\n",
        "    B_dir = os.path.join(target_dir,'trainB') \n",
        "    A_test_dir = os.path.join(target_dir,'testA')\n",
        "    B_test_dir = os.path.join(target_dir,'testB') \n",
        "\n",
        "    full_A_dir = os.path.join(full_dir,'trainA')\n",
        "    full_B_dir = os.path.join(full_dir,'trainB') \n",
        "    full_A_test_dir = os.path.join(full_dir,'testA')\n",
        "    full_B_test_dir = os.path.join(full_dir,'testB') \n",
        "\n",
        "\n",
        "\n",
        "    print(f'{cls_name} list dir ...')\n",
        "    A_dir_files = os.listdir(A_dir)\n",
        "    B_dir_files = os.listdir(B_dir)\n",
        "\n",
        "    print(f'{cls_name} shuffling ...')\n",
        "    random.shuffle(A_dir_files) \n",
        "    random.shuffle(B_dir_files)\n",
        " \n",
        "\n",
        "    for f in tqdm(A_dir_files[:50]):\n",
        "        shutil.move(os.path.join(A_dir,f),A_test_dir)\n",
        "        shutil.move(os.path.join(full_A_dir,f),full_A_test_dir)\n",
        "\n",
        "    for f in tqdm(B_dir_files[:50]):\n",
        "        shutil.move(os.path.join(B_dir,f),B_test_dir)\n",
        "        shutil.move(os.path.join(full_B_dir,f),full_B_test_dir)\n",
        "        \n",
        "    "
      ],
      "execution_count": null,
      "outputs": []
    },
    {
      "cell_type": "code",
      "metadata": {
        "id": "wYkzJfc3ACyh"
      },
      "source": [
        "build_cycle_gan_dir('car','/content/gdrive/MyDrive/Projects/syn_real_gan/data/02_intermediate/car')\n",
        "build_cycle_gan_dir('motorcycle','/content/gdrive/MyDrive/Projects/syn_real_gan/data/02_intermediate/motorcycle')\n",
        "build_cycle_gan_dir('horse','/content/gdrive/MyDrive/Projects/syn_real_gan/data/02_intermediate/horse')\n",
        "build_cycle_gan_dir('aeroplane','/content/gdrive/MyDrive/Projects/syn_real_gan/data/02_intermediate/aeroplane')\n",
        "build_cycle_gan_dir('plant','/content/gdrive/MyDrive/Projects/syn_real_gan/data/02_intermediate/plant')\n"
      ],
      "execution_count": null,
      "outputs": []
    },
    {
      "cell_type": "code",
      "metadata": {
        "id": "8DDV9Y124iZG"
      },
      "source": [
        "move_train_to_test('car','/content/gdrive/MyDrive/Projects/syn_real_gan/data/02_intermediate/car')\n",
        "move_train_to_test('motorcycle','/content/gdrive/MyDrive/Projects/syn_real_gan/data/02_intermediate/motorcycle')\n",
        "move_train_to_test('horse','/content/gdrive/MyDrive/Projects/syn_real_gan/data/02_intermediate/horse')\n",
        "move_train_to_test('aeroplane','/content/gdrive/MyDrive/Projects/syn_real_gan/data/02_intermediate/aeroplane')\n",
        "move_train_to_test('plant','/content/gdrive/MyDrive/Projects/syn_real_gan/data/02_intermediate/plant')"
      ],
      "execution_count": null,
      "outputs": []
    },
    {
      "cell_type": "code",
      "metadata": {
        "id": "XqO19j6MK9x3"
      },
      "source": [
        "rm -r /content/gdrive/MyDrive/Projects/syn_real_gan/data/02_intermediate/car/testA/*"
      ],
      "execution_count": null,
      "outputs": []
    },
    {
      "cell_type": "code",
      "metadata": {
        "id": "Q0_3Jb_M5IrC"
      },
      "source": [
        ""
      ],
      "execution_count": null,
      "outputs": []
    }
  ]
}